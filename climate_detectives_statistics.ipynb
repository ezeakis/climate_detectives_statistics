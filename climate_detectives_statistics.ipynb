{
 "cells": [
  {
   "cell_type": "code",
   "execution_count": null,
   "id": "literary-criminal",
   "metadata": {},
   "outputs": [],
   "source": [
    "import pandas as pd\n",
    "import plotly.express as px\n",
    "df = pd.read_csv('climate_detectives_statistics.csv')\n",
    "df.head()\n",
    "\n",
    "import pandas as pd\n",
    "\n",
    "fig = px.line(df, x = 'Time', y = 'MQ7', title='MQ7')\n",
    "#fig.show()\n",
    "\n",
    "fig = px.line(df, x = 'Time', y = 'humid', title='Humidity')\n",
    "fig.show()\n",
    "\n",
    "fig = px.line(df, x = 'Time', y = 'temp1', title='Temperature (LM35)')\n",
    "fig.show()\n",
    "\n",
    "fig = px.line(df, x = 'Time', y = 'temp2', title='Temperature (DHT11)')\n",
    "fig.show()"
   ]
  }
 ],
 "metadata": {
  "kernelspec": {
   "display_name": "Python 3",
   "language": "python",
   "name": "python3"
  },
  "language_info": {
   "codemirror_mode": {
    "name": "ipython",
    "version": 3
   },
   "file_extension": ".py",
   "mimetype": "text/x-python",
   "name": "python",
   "nbconvert_exporter": "python",
   "pygments_lexer": "ipython3",
   "version": "3.7.9"
  }
 },
 "nbformat": 4,
 "nbformat_minor": 5
}
